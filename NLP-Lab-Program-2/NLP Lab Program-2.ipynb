{
 "cells": [
  {
   "cell_type": "code",
   "execution_count": 6,
   "id": "17c5884b",
   "metadata": {},
   "outputs": [
    {
     "name": "stdout",
     "output_type": "stream",
     "text": [
      "boy\n",
      "childs\n",
      "play\n",
      "plays\n"
     ]
    }
   ],
   "source": [
    "import nltk\n",
    "from nltk.stem import PorterStemmer\n",
    "from nltk.corpus import wordnet as wn\n",
    "\n",
    "def generate_word(root, category, number=None, gender=None, person=None, tense=None):\n",
    "    stemmer = PorterStemmer()\n",
    "    stem = stemmer.stem(root)\n",
    "\n",
    "    # Noun singular/plural\n",
    "    if category == 'noun':\n",
    "        if number == 'singular':\n",
    "            return root\n",
    "        elif number == 'plural':\n",
    "            plural = stem + 'ren' if stem.endswith(('s', 'x', 'ch')) else stem + 's'\n",
    "            return plural\n",
    "\n",
    "    # Verb conjugation (limited to present tense)\n",
    "    elif category == 'verb':\n",
    "        if tense == 'simple-present':\n",
    "            if person == 'first':\n",
    "                return root\n",
    "            elif person == 'third':\n",
    "                if gender == 'male':\n",
    "                    return stem + 's'\n",
    "                else:\n",
    "                    return root\n",
    "\n",
    "# Example usage\n",
    "if __name__ == \"__main__\":\n",
    "    # Generate words with the specified features\n",
    "    words = [\n",
    "        ('boy', 'noun', 'singular'),\n",
    "        ('child', 'noun', 'plural'),\n",
    "        ('play', 'verb', 'singular', 'male', 'first', 'simple-present'),\n",
    "        ('play', 'verb', 'singular', 'male', 'third', 'simple-present') \n",
    "    ]\n",
    "\n",
    "    for word_info in words:\n",
    "        generated_word = generate_word(*word_info)\n",
    "        print(generated_word)"
   ]
  },
  {
   "cell_type": "code",
   "execution_count": 10,
   "id": "b345bb1b",
   "metadata": {},
   "outputs": [
    {
     "name": "stdout",
     "output_type": "stream",
     "text": [
      "boy\n"
     ]
    }
   ],
   "source": [
    "import nltk\n",
    "# Generate word\n",
    "word = nltk.corpus.wordnet.morphy('boy', nltk.corpus.wordnet.NOUN)\n",
    "print(word)"
   ]
  },
  {
   "cell_type": "code",
   "execution_count": 12,
   "id": "90ea7286",
   "metadata": {},
   "outputs": [
    {
     "ename": "AttributeError",
     "evalue": "module 'nltk' has no attribute 'PluralizePluralize'",
     "output_type": "error",
     "traceback": [
      "\u001b[1;31m---------------------------------------------------------------------------\u001b[0m",
      "\u001b[1;31mAttributeError\u001b[0m                            Traceback (most recent call last)",
      "Cell \u001b[1;32mIn[12], line 4\u001b[0m\n\u001b[0;32m      2\u001b[0m \u001b[38;5;66;03m# Generate word\u001b[39;00m\n\u001b[0;32m      3\u001b[0m word \u001b[38;5;241m=\u001b[39m nltk\u001b[38;5;241m.\u001b[39mcorpus\u001b[38;5;241m.\u001b[39mwordnet\u001b[38;5;241m.\u001b[39mmorphy(\u001b[38;5;124m'\u001b[39m\u001b[38;5;124mchild\u001b[39m\u001b[38;5;124m'\u001b[39m, nltk\u001b[38;5;241m.\u001b[39mcorpus\u001b[38;5;241m.\u001b[39mwordnet\u001b[38;5;241m.\u001b[39mNOUN)\n\u001b[1;32m----> 4\u001b[0m word_plural \u001b[38;5;241m=\u001b[39m nltk\u001b[38;5;241m.\u001b[39mPluralizePluralize\u001b[38;5;241m.\u001b[39mpluralize(word)\n\u001b[0;32m      5\u001b[0m \u001b[38;5;28mprint\u001b[39m(word_plural)\n",
      "\u001b[1;31mAttributeError\u001b[0m: module 'nltk' has no attribute 'PluralizePluralize'"
     ]
    }
   ],
   "source": [
    "import nltk\n",
    "# Generate word\n",
    "word = nltk.corpus.wordnet.morphy('child', nltk.corpus.wordnet.NOUN)\n",
    "word_plural = nltk.PluralizePluralize.pluralize(word)\n",
    "print(word_plural)"
   ]
  },
  {
   "cell_type": "code",
   "execution_count": 13,
   "id": "16b4df7f",
   "metadata": {},
   "outputs": [
    {
     "ename": "AttributeError",
     "evalue": "module 'nltk' has no attribute 'conjugate'",
     "output_type": "error",
     "traceback": [
      "\u001b[1;31m---------------------------------------------------------------------------\u001b[0m",
      "\u001b[1;31mAttributeError\u001b[0m                            Traceback (most recent call last)",
      "Cell \u001b[1;32mIn[13], line 4\u001b[0m\n\u001b[0;32m      2\u001b[0m \u001b[38;5;66;03m# Generate word\u001b[39;00m\n\u001b[0;32m      3\u001b[0m word \u001b[38;5;241m=\u001b[39m nltk\u001b[38;5;241m.\u001b[39mcorpus\u001b[38;5;241m.\u001b[39mwordnet\u001b[38;5;241m.\u001b[39mmorphy(\u001b[38;5;124m'\u001b[39m\u001b[38;5;124mplay\u001b[39m\u001b[38;5;124m'\u001b[39m, nltk\u001b[38;5;241m.\u001b[39mcorpus\u001b[38;5;241m.\u001b[39mwordnet\u001b[38;5;241m.\u001b[39mVERB)\n\u001b[1;32m----> 4\u001b[0m word_inflected \u001b[38;5;241m=\u001b[39m nltk\u001b[38;5;241m.\u001b[39mconjugate\u001b[38;5;241m.\u001b[39mconjugate(word, tense\u001b[38;5;241m=\u001b[39m\u001b[38;5;124m'\u001b[39m\u001b[38;5;124mpresent\u001b[39m\u001b[38;5;124m'\u001b[39m, number\u001b[38;5;241m=\u001b[39m\u001b[38;5;124m'\u001b[39m\u001b[38;5;124msingular\u001b[39m\u001b[38;5;124m'\u001b[39m, person\u001b[38;5;241m=\u001b[39m\u001b[38;5;124m'\u001b[39m\u001b[38;5;124m1st\u001b[39m\u001b[38;5;124m'\u001b[39m, gender\u001b[38;5;241m=\u001b[39m\u001b[38;5;124m'\u001b[39m\u001b[38;5;124mmale\u001b[39m\u001b[38;5;124m'\u001b[39m)\n\u001b[0;32m      5\u001b[0m \u001b[38;5;28mprint\u001b[39m(word_inflected)\n",
      "\u001b[1;31mAttributeError\u001b[0m: module 'nltk' has no attribute 'conjugate'"
     ]
    }
   ],
   "source": [
    "import nltk\n",
    "# Generate word\n",
    "word = nltk.corpus.wordnet.morphy('play', nltk.corpus.wordnet.VERB)\n",
    "word_inflected = nltk.conjugate.conjugate(word, tense='present', number='singular', person='1st', gender='male')\n",
    "print(word_inflected)"
   ]
  },
  {
   "cell_type": "code",
   "execution_count": 14,
   "id": "cfab6db3",
   "metadata": {},
   "outputs": [
    {
     "ename": "AttributeError",
     "evalue": "module 'nltk' has no attribute 'conjugate'",
     "output_type": "error",
     "traceback": [
      "\u001b[1;31m---------------------------------------------------------------------------\u001b[0m",
      "\u001b[1;31mAttributeError\u001b[0m                            Traceback (most recent call last)",
      "Cell \u001b[1;32mIn[14], line 4\u001b[0m\n\u001b[0;32m      2\u001b[0m \u001b[38;5;66;03m# Generate word\u001b[39;00m\n\u001b[0;32m      3\u001b[0m word \u001b[38;5;241m=\u001b[39m nltk\u001b[38;5;241m.\u001b[39mcorpus\u001b[38;5;241m.\u001b[39mwordnet\u001b[38;5;241m.\u001b[39mmorphy(\u001b[38;5;124m'\u001b[39m\u001b[38;5;124mplay\u001b[39m\u001b[38;5;124m'\u001b[39m, nltk\u001b[38;5;241m.\u001b[39mcorpus\u001b[38;5;241m.\u001b[39mwordnet\u001b[38;5;241m.\u001b[39mVERB)\n\u001b[1;32m----> 4\u001b[0m word_inflected \u001b[38;5;241m=\u001b[39m nltk\u001b[38;5;241m.\u001b[39mconjugate\u001b[38;5;241m.\u001b[39mconjugate(word, tense\u001b[38;5;241m=\u001b[39m\u001b[38;5;124m'\u001b[39m\u001b[38;5;124mpresent\u001b[39m\u001b[38;5;124m'\u001b[39m, number\u001b[38;5;241m=\u001b[39m\u001b[38;5;124m'\u001b[39m\u001b[38;5;124msingular\u001b[39m\u001b[38;5;124m'\u001b[39m, person\u001b[38;5;241m=\u001b[39m\u001b[38;5;124m'\u001b[39m\u001b[38;5;124m3rd\u001b[39m\u001b[38;5;124m'\u001b[39m, gender\u001b[38;5;241m=\u001b[39m\u001b[38;5;124m'\u001b[39m\u001b[38;5;124mmale\u001b[39m\u001b[38;5;124m'\u001b[39m)\n\u001b[0;32m      5\u001b[0m \u001b[38;5;28mprint\u001b[39m(word_inflected)\n",
      "\u001b[1;31mAttributeError\u001b[0m: module 'nltk' has no attribute 'conjugate'"
     ]
    }
   ],
   "source": [
    "import nltk\n",
    "# Generate word\n",
    "word = nltk.corpus.wordnet.morphy('play', nltk.corpus.wordnet.VERB)\n",
    "word_inflected = nltk.conjugate.conjugate(word, tense='present', number='singular', person='3rd', gender='male')\n",
    "print(word_inflected)"
   ]
  },
  {
   "cell_type": "code",
   "execution_count": 17,
   "id": "2db5b82f",
   "metadata": {},
   "outputs": [
    {
     "name": "stdout",
     "output_type": "stream",
     "text": [
      "Root: पुस्तक, Category: noun, Gender: female, Number: singular, Case: direct, Person: None, Tense: None, Word: पुस्तक\n",
      "Root: बाग, Category: noun, Gender: male, Number: singular, Case: oblique, Person: None, Tense: None, Word: बागe\n",
      "Root: खेल, Category: verb, Gender: female, Number: plural, Case: None, Person: third, Tense: present-perfect, Word: खेली हैं\n",
      "Root: पढ़, Category: verb, Gender: female, Number: singular, Case: None, Person: first, Tense: simple-future, Word: पढ़ूंगा\n"
     ]
    }
   ],
   "source": [
    "def generate_words(features):\n",
    "    for feature in features:\n",
    "        root = feature['root']\n",
    "        category = feature['category']\n",
    "        gender = feature.get('gender', None)\n",
    "        number = feature['number']\n",
    "        case = feature.get('case', None)\n",
    "        person = feature.get('person', None)\n",
    "        tense = feature.get('tense', None)\n",
    "        \n",
    "        if category == 'noun':\n",
    "            if gender == 'female' and number == 'singular' and case == 'direct':\n",
    "                word = root\n",
    "            elif gender == 'male' and number == 'singular' and case == 'oblique':\n",
    "                word = root + 'e'\n",
    "        elif category == 'verb':\n",
    "            if gender == 'female' and number == 'plural' and person == 'third' and tense == 'present-perfect':\n",
    "                word = root + 'ी हैं'\n",
    "            elif gender == 'female' and number == 'singular' and person == 'first' and tense == 'simple-future':\n",
    "                word = root + 'ूंगा'\n",
    "                \n",
    "        print(f\"Root: {root}, Category: {category}, Gender: {gender}, Number: {number}, Case: {case}, Person: {person}, Tense: {tense}, Word: {word}\")\n",
    "\n",
    "# Example usage:\n",
    "features = [\n",
    "    {'root': 'पुस्तक', 'category': 'noun', 'gender': 'female', 'number': 'singular', 'case': 'direct'},\n",
    "    {'root': 'बाग', 'category': 'noun', 'gender': 'male', 'number': 'singular', 'case': 'oblique'},\n",
    "    {'root': 'खेल', 'category': 'verb', 'gender': 'female', 'number': 'plural', 'person': 'third', 'tense': 'present-perfect'},\n",
    "    {'root': 'पढ़', 'category': 'verb', 'gender': 'female', 'number': 'singular', 'person': 'first', 'tense': 'simple-future'}\n",
    "]\n",
    "\n",
    "generate_words(features)"
   ]
  },
  {
   "cell_type": "code",
   "execution_count": null,
   "id": "bfb0f00b",
   "metadata": {},
   "outputs": [],
   "source": []
  }
 ],
 "metadata": {
  "kernelspec": {
   "display_name": "Python 3 (ipykernel)",
   "language": "python",
   "name": "python3"
  },
  "language_info": {
   "codemirror_mode": {
    "name": "ipython",
    "version": 3
   },
   "file_extension": ".py",
   "mimetype": "text/x-python",
   "name": "python",
   "nbconvert_exporter": "python",
   "pygments_lexer": "ipython3",
   "version": "3.11.5"
  }
 },
 "nbformat": 4,
 "nbformat_minor": 5
}
