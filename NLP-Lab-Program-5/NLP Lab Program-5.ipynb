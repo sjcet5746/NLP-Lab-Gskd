{
 "cells": [
  {
   "cell_type": "code",
   "execution_count": 1,
   "id": "7946d7c4",
   "metadata": {},
   "outputs": [
    {
     "name": "stdout",
     "output_type": "stream",
     "text": [
      "Word Probabilities with Add-One Smoothing:\n",
      "I: 0.25\n",
      "like: 0.25\n",
      "ice: 0.16666666666666666\n",
      "cream.: 0.16666666666666666\n",
      "cake.: 0.16666666666666666\n",
      "\n",
      "Probability of 'chocolate': 0.08333333333333333\n"
     ]
    }
   ],
   "source": [
    "from collections import Counter\n",
    "\n",
    "# Corpus\n",
    "corpus = [\n",
    "    \"I like ice cream.\",\n",
    "    \"I like cake.\"\n",
    "]\n",
    "\n",
    "# Tokenize the corpus into words\n",
    "words = [word for sentence in corpus for word in sentence.split()]\n",
    "\n",
    "# Count the occurrences of each word in the corpus\n",
    "word_counts = Counter(words)\n",
    "\n",
    "# Vocabulary size\n",
    "V = len(set(words))\n",
    "\n",
    "# Total number of words in the corpus\n",
    "N = len(words)\n",
    "\n",
    "# Calculate the probability of each word with add-one smoothing\n",
    "word_probabilities = {}\n",
    "for word, count in word_counts.items():\n",
    "    word_probabilities[word] = (count + 1) / (N + V)\n",
    "\n",
    "# Calculate the probability of the word \"chocolate\"\n",
    "# Assume it is unseen in the corpus\n",
    "chocolate_probability = 1 / (N + V)\n",
    "\n",
    "# Print the probability of each word and the probability of \"chocolate\"\n",
    "print(\"Word Probabilities with Add-One Smoothing:\")\n",
    "for word, probability in word_probabilities.items():\n",
    "    print(f\"{word}: {probability}\")\n",
    "\n",
    "print(f\"\\nProbability of 'chocolate': {chocolate_probability}\")"
   ]
  },
  {
   "cell_type": "code",
   "execution_count": 2,
   "id": "d5004ec9",
   "metadata": {},
   "outputs": [
    {
     "name": "stdout",
     "output_type": "stream",
     "text": [
      "Bigram Probabilities with Add-δ Smoothing:\n",
      "Probability of 'John' given '(eos)': 0.000022\n",
      "Probability of 'Read' given '(eos)': 0.333274\n",
      "Probability of 'Fountainhead' given '(eos)': 0.000022\n",
      "Probability of 'Mary' given '(eos)': 0.000022\n",
      "Probability of 'a' given '(eos)': 0.333274\n",
      "Probability of 'Different' given '(eos)': 0.000022\n",
      "Probability of 'Book' given '(eos)': 0.000022\n",
      "Probability of 'She' given '(eos)': 0.333274\n",
      "Probability of 'By' given '(eos)': 0.000022\n",
      "Probability of 'Dickens' given '(eos)': 0.000022\n",
      "Probability of 'Read' given 'John': 0.999334\n",
      "Probability of 'Fountainhead' given 'John': 0.000067\n",
      "Probability of 'Mary' given 'John': 0.000067\n",
      "Probability of 'a' given 'John': 0.000067\n",
      "Probability of 'Different' given 'John': 0.000067\n",
      "Probability of 'Book' given 'John': 0.000067\n",
      "Probability of 'She' given 'John': 0.000067\n",
      "Probability of 'By' given 'John': 0.000067\n",
      "Probability of 'Dickens' given 'John': 0.000067\n",
      "Probability of 'Fountainhead' given 'Read': 0.000022\n",
      "Probability of 'Mary' given 'Read': 0.333274\n",
      "Probability of 'a' given 'Read': 0.666526\n",
      "Probability of 'Different' given 'Read': 0.000022\n",
      "Probability of 'Book' given 'Read': 0.000022\n",
      "Probability of 'She' given 'Read': 0.000022\n",
      "Probability of 'By' given 'Read': 0.000022\n",
      "Probability of 'Dickens' given 'Read': 0.000022\n",
      "Probability of 'Mary' given 'Fountainhead': 0.090909\n",
      "Probability of 'a' given 'Fountainhead': 0.090909\n",
      "Probability of 'Different' given 'Fountainhead': 0.090909\n",
      "Probability of 'Book' given 'Fountainhead': 0.090909\n",
      "Probability of 'She' given 'Fountainhead': 0.090909\n",
      "Probability of 'By' given 'Fountainhead': 0.090909\n",
      "Probability of 'Dickens' given 'Fountainhead': 0.090909\n",
      "Probability of 'a' given 'Mary': 0.090909\n",
      "Probability of 'Different' given 'Mary': 0.090909\n",
      "Probability of 'Book' given 'Mary': 0.090909\n",
      "Probability of 'She' given 'Mary': 0.090909\n",
      "Probability of 'By' given 'Mary': 0.090909\n",
      "Probability of 'Dickens' given 'Mary': 0.090909\n",
      "Probability of 'Different' given 'a': 0.499850\n",
      "Probability of 'Book' given 'a': 0.499850\n",
      "Probability of 'She' given 'a': 0.000033\n",
      "Probability of 'By' given 'a': 0.000033\n",
      "Probability of 'Dickens' given 'a': 0.000033\n",
      "Probability of 'Book' given 'Different': 0.999334\n",
      "Probability of 'She' given 'Different': 0.000067\n",
      "Probability of 'By' given 'Different': 0.000067\n",
      "Probability of 'Dickens' given 'Different': 0.000067\n",
      "Probability of 'She' given 'Book': 0.000067\n",
      "Probability of 'By' given 'Book': 0.999334\n",
      "Probability of 'Dickens' given 'Book': 0.000067\n",
      "Probability of 'By' given 'She': 0.090909\n",
      "Probability of 'Dickens' given 'She': 0.090909\n",
      "Probability of 'Dickens' given 'By': 0.090909\n"
     ]
    }
   ],
   "source": [
    "# Given bigram count table\n",
    "bigram_counts = {\n",
    "    '(eos)': {'John': 0, 'Read': 300, 'Fountainhead': 0, 'Mary': 0, 'a': 300, 'Different': 0, 'Book': 0, 'She': 300, 'By': 0, 'Dickens': 0},\n",
    "    'John': {'Read': 300, 'Fountainhead': 0, 'Mary': 0, 'a': 0, 'Different': 0, 'Book': 0, 'She': 0, 'By': 0, 'Dickens': 0},\n",
    "    'Read': {'Fountainhead': 0, 'Mary': 300, 'a': 600, 'Different': 0, 'Book': 0, 'She': 0, 'By': 0, 'Dickens': 0},\n",
    "    'Fountainhead': {'Mary': 0, 'a': 0, 'Different': 0, 'Book': 0, 'She': 0, 'By': 0, 'Dickens': 0},\n",
    "    'Mary': {'a': 0, 'Different': 0, 'Book': 0, 'She': 0, 'By': 0, 'Dickens': 0},\n",
    "    'a': {'Different': 300, 'Book': 300, 'She': 0, 'By': 0, 'Dickens': 0},\n",
    "    'Different': {'Book': 300, 'She': 0, 'By': 0, 'Dickens': 0},\n",
    "    'Book': {'She': 0, 'By': 300, 'Dickens': 0},\n",
    "    'She': {'By': 0, 'Dickens': 0},\n",
    "    'By': {'Dickens': 0},\n",
    "    'Dickens': {}\n",
    "}\n",
    "\n",
    "# Parameters\n",
    "delta = 0.02\n",
    "N = 5100  # Total count of bigrams\n",
    "V = 11    # Vocabulary size\n",
    "\n",
    "# Apply Add-δ smoothing and calculate probabilities\n",
    "bigram_probabilities = {}\n",
    "for word, next_words in bigram_counts.items():\n",
    "    bigram_probabilities[word] = {}\n",
    "    total_count = sum(next_words.values()) + (V * delta)\n",
    "    for next_word, count in next_words.items():\n",
    "        bigram_probabilities[word][next_word] = (count + delta) / total_count\n",
    "\n",
    "# Print the probabilities\n",
    "print(\"Bigram Probabilities with Add-δ Smoothing:\")\n",
    "for word, next_words in bigram_probabilities.items():\n",
    "    for next_word, probability in next_words.items():\n",
    "        print(f\"Probability of '{next_word}' given '{word}': {probability:.6f}\")"
   ]
  },
  {
   "cell_type": "code",
   "execution_count": 3,
   "id": "a3156f01",
   "metadata": {},
   "outputs": [
    {
     "name": "stdout",
     "output_type": "stream",
     "text": [
      "Probability of the sentence using unsmoothed probabilities: 2.3946073442607248e-05\n"
     ]
    }
   ],
   "source": [
    "#(a)\n",
    "# Unsmoothed probabilities\n",
    "unsmoothed_probabilities = {\n",
    "    'Dickens': 300 / 5100,\n",
    "    'read': 300 / 5100,\n",
    "    'a': 600 / 5100,\n",
    "    'book': 300 / 5100\n",
    "}\n",
    "\n",
    "# Calculate the probability of the sentence using unsmoothed probabilities\n",
    "sentence_probability_unsmoothed = 1\n",
    "for word in \"Dickens read a book\".split():\n",
    "    sentence_probability_unsmoothed *= unsmoothed_probabilities.get(word, 0)\n",
    "\n",
    "print(f\"Probability of the sentence using unsmoothed probabilities: {sentence_probability_unsmoothed}\")"
   ]
  },
  {
   "cell_type": "code",
   "execution_count": 4,
   "id": "c8f59c78",
   "metadata": {},
   "outputs": [
    {
     "name": "stdout",
     "output_type": "stream",
     "text": [
      "Probability of the sentence using Add-One smoothing: 2.401875183363885e-05\n"
     ]
    }
   ],
   "source": [
    "#(b)\n",
    "# Add-One smoothing\n",
    "add_one_probabilities = {\n",
    "    'Dickens': (300 + 1) / (5100 + 11),\n",
    "    'read': (300 + 1) / (5100 + 11),\n",
    "    'a': (600 + 1) / (5100 + 11),\n",
    "    'book': (300 + 1) / (5100 + 11)\n",
    "}\n",
    "\n",
    "# Calculate the probability of the sentence using Add-One smoothing\n",
    "sentence_probability_add_one = 1\n",
    "for word in \"Dickens read a book\".split():\n",
    "    sentence_probability_add_one *= add_one_probabilities.get(word, 1 / (5100 + 11))\n",
    "\n",
    "print(f\"Probability of the sentence using Add-One smoothing: {sentence_probability_add_one}\")"
   ]
  },
  {
   "cell_type": "code",
   "execution_count": 5,
   "id": "91d0918b",
   "metadata": {},
   "outputs": [
    {
     "name": "stdout",
     "output_type": "stream",
     "text": [
      "Probability of the sentence using Add-δ smoothing: 2.39475289486606e-05\n"
     ]
    }
   ],
   "source": [
    "#(c)\n",
    "# Add-δ smoothing with δ = 0.02\n",
    "delta = 0.02\n",
    "add_delta_probabilities = {\n",
    "    'Dickens': (300 + delta) / (5100 + 11 * delta),\n",
    "    'read': (300 + delta) / (5100 + 11 * delta),\n",
    "    'a': (600 + delta) / (5100 + 11 * delta),\n",
    "    'book': (300 + delta) / (5100 + 11 * delta)\n",
    "}\n",
    "\n",
    "# Calculate the probability of the sentence using Add-δ smoothing\n",
    "sentence_probability_add_delta = 1\n",
    "for word in \"Dickens read a book\".split():\n",
    "    sentence_probability_add_delta *= add_delta_probabilities.get(word, delta / (5100 + 11 * delta))\n",
    "\n",
    "print(f\"Probability of the sentence using Add-δ smoothing: {sentence_probability_add_delta}\")"
   ]
  },
  {
   "cell_type": "code",
   "execution_count": null,
   "id": "e7fcac31",
   "metadata": {},
   "outputs": [],
   "source": []
  }
 ],
 "metadata": {
  "kernelspec": {
   "display_name": "Python 3 (ipykernel)",
   "language": "python",
   "name": "python3"
  },
  "language_info": {
   "codemirror_mode": {
    "name": "ipython",
    "version": 3
   },
   "file_extension": ".py",
   "mimetype": "text/x-python",
   "name": "python",
   "nbconvert_exporter": "python",
   "pygments_lexer": "ipython3",
   "version": "3.11.5"
  }
 },
 "nbformat": 4,
 "nbformat_minor": 5
}
