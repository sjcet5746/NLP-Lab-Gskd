{
 "cells": [
  {
   "cell_type": "code",
   "execution_count": 1,
   "id": "9e89734d",
   "metadata": {},
   "outputs": [
    {
     "name": "stdout",
     "output_type": "stream",
     "text": [
      "Trigram Probabilities:\n",
      "('(eos)', 'Can', 'I'): 1.0\n",
      "('Can', 'I', 'sit'): 1.0\n",
      "('I', 'sit', 'near'): 1.0\n",
      "('sit', 'near', 'you'): 1.0\n",
      "('near', 'you', '(eos)'): 1.0\n",
      "('(eos)', 'You', 'can'): 1.0\n",
      "('You', 'can', 'sit'): 1.0\n",
      "('can', 'sit', '(eos)'): 0.5\n",
      "('(eos)', 'Sit', 'near'): 1.0\n",
      "('Sit', 'near', 'him'): 1.0\n",
      "('near', 'him', '(eos)'): 1.0\n",
      "('(eos)', 'I', 'can'): 1.0\n",
      "('I', 'can', 'sit'): 1.0\n",
      "('can', 'sit', 'you'): 0.5\n",
      "('sit', 'you', '(eos)'): 1.0\n"
     ]
    }
   ],
   "source": [
    "from collections import defaultdict\n",
    "\n",
    "# Given corpus\n",
    "corpus = [\n",
    "    \"(eos) Can I sit near you (eos)\",\n",
    "    \"(eos) You can sit (eos)\",\n",
    "    \"(eos) Sit near him (eos)\",\n",
    "    \"(eos) I can sit you (eos)\"\n",
    "]\n",
    "\n",
    "# Function to tokenize text into words\n",
    "def tokenize(text):\n",
    "    return text.split()\n",
    "\n",
    "# Function to calculate trigram probabilities\n",
    "def calculate_trigram_probabilities(corpus):\n",
    "    trigram_counts = defaultdict(int)\n",
    "    bigram_counts = defaultdict(int)\n",
    "\n",
    "    for sentence in corpus:\n",
    "        words = tokenize(sentence)\n",
    "        for i in range(len(words) - 2):\n",
    "            trigram = tuple(words[i:i+3])\n",
    "            bigram = tuple(words[i:i+2])\n",
    "            trigram_counts[trigram] += 1\n",
    "            bigram_counts[bigram] += 1\n",
    "\n",
    "    trigram_probabilities = {}\n",
    "    for trigram, count in trigram_counts.items():\n",
    "        bigram = trigram[:2]\n",
    "        trigram_probabilities[trigram] = count / bigram_counts[bigram]\n",
    "\n",
    "    return trigram_probabilities\n",
    "\n",
    "# Calculate trigram probabilities\n",
    "trigram_probabilities = calculate_trigram_probabilities(corpus)\n",
    "\n",
    "# Print trigram probabilities\n",
    "print(\"Trigram Probabilities:\")\n",
    "for trigram, probability in trigram_probabilities.items():\n",
    "    print(f\"{trigram}: {probability}\")"
   ]
  },
  {
   "cell_type": "code",
   "execution_count": 2,
   "id": "1c5e7656",
   "metadata": {},
   "outputs": [
    {
     "name": "stdout",
     "output_type": "stream",
     "text": [
      "Word: quote\n",
      "1-grams: ['q', 'u', 'o', 't', 'e']\n",
      "2-grams: ['qu', 'uo', 'ot', 'te']\n",
      "3-grams: ['quo', 'uot', 'ote']\n",
      "4-grams: ['quot', 'uote']\n",
      "5-grams: ['quote']\n",
      "\n",
      "Word: patient\n",
      "1-grams: ['p', 'a', 't', 'i', 'e', 'n', 't']\n",
      "2-grams: ['pa', 'at', 'ti', 'ie', 'en', 'nt']\n",
      "3-grams: ['pat', 'ati', 'tie', 'ien', 'ent']\n",
      "4-grams: ['pati', 'atie', 'tien', 'ient']\n",
      "5-grams: ['patie', 'atien', 'tient']\n",
      "6-grams: ['patien', 'atient']\n",
      "7-grams: ['patient']\n",
      "\n",
      "Word: patent\n",
      "1-grams: ['p', 'a', 't', 'e', 'n', 't']\n",
      "2-grams: ['pa', 'at', 'te', 'en', 'nt']\n",
      "3-grams: ['pat', 'ate', 'ten', 'ent']\n",
      "4-grams: ['pate', 'aten', 'tent']\n",
      "5-grams: ['paten', 'atent']\n",
      "6-grams: ['patent']\n",
      "\n",
      "Word: impatien\n",
      "1-grams: ['i', 'm', 'p', 'a', 't', 'i', 'e', 'n']\n",
      "2-grams: ['im', 'mp', 'pa', 'at', 'ti', 'ie', 'en']\n",
      "3-grams: ['imp', 'mpa', 'pat', 'ati', 'tie', 'ien']\n",
      "4-grams: ['impa', 'mpat', 'pati', 'atie', 'tien']\n",
      "5-grams: ['impat', 'mpati', 'patie', 'atien']\n",
      "6-grams: ['impati', 'mpatie', 'patien']\n",
      "7-grams: ['impatie', 'mpatien']\n",
      "8-grams: ['impatien']\n",
      "\n"
     ]
    }
   ],
   "source": [
    "def generate_ngrams(word, n):\n",
    "    ngrams = []\n",
    "    for i in range(len(word) - n + 1):\n",
    "        ngrams.append(word[i:i+n])\n",
    "    return ngrams\n",
    "\n",
    "# Given words\n",
    "words = ['quote', 'patient', 'patent', 'impatien']\n",
    "\n",
    "# Generate and print character-based N-grams for each word\n",
    "for word in words:\n",
    "    print(f\"Word: {word}\")\n",
    "    for n in range(1, len(word) + 1):\n",
    "        ngrams = generate_ngrams(word, n)\n",
    "        print(f\"{n}-grams: {ngrams}\")\n",
    "    print()"
   ]
  },
  {
   "cell_type": "code",
   "execution_count": 3,
   "id": "1cdcf431",
   "metadata": {},
   "outputs": [
    {
     "name": "stdout",
     "output_type": "stream",
     "text": [
      "Probability of qotient: 0.0\n",
      "Probability of quotent: 0.0\n",
      "Probability of quotient: 1.0\n",
      "\n",
      "Correct Spelling: quotient\n"
     ]
    }
   ],
   "source": [
    "from collections import Counter\n",
    "\n",
    "# Given words\n",
    "words = ['qotient', 'quotent', 'quotient']\n",
    "\n",
    "# Corpus of words\n",
    "corpus = ['quotient'] * 1000  # Assume 'quotient' occurs 1000 times in the corpus\n",
    "\n",
    "# Calculate the frequency of each word in the corpus\n",
    "word_counts = Counter(corpus)\n",
    "\n",
    "# Calculate the total number of words in the corpus\n",
    "total_words = sum(word_counts.values())\n",
    "\n",
    "# Calculate the probability of occurrence of each word\n",
    "word_probabilities = {}\n",
    "for word in words:\n",
    "    word_probabilities[word] = word_counts[word] / total_words\n",
    "\n",
    "# Print the probabilities of occurrence of each word\n",
    "for word, probability in word_probabilities.items():\n",
    "    print(f\"Probability of {word}: {probability}\")\n",
    "\n",
    "# Identify the correct spelling based on the highest probability\n",
    "correct_spelling = max(word_probabilities, key=word_probabilities.get)\n",
    "print(f\"\\nCorrect Spelling: {correct_spelling}\")"
   ]
  },
  {
   "cell_type": "code",
   "execution_count": null,
   "id": "d044a09b",
   "metadata": {},
   "outputs": [],
   "source": []
  }
 ],
 "metadata": {
  "kernelspec": {
   "display_name": "Python 3 (ipykernel)",
   "language": "python",
   "name": "python3"
  },
  "language_info": {
   "codemirror_mode": {
    "name": "ipython",
    "version": 3
   },
   "file_extension": ".py",
   "mimetype": "text/x-python",
   "name": "python",
   "nbconvert_exporter": "python",
   "pygments_lexer": "ipython3",
   "version": "3.11.5"
  }
 },
 "nbformat": 4,
 "nbformat_minor": 5
}
